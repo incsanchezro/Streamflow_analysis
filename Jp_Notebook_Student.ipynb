{
 "cells": [
  {
   "cell_type": "markdown",
   "metadata": {},
   "source": [
    "# Streamflow metering exercise\n",
    "\n",
    "**Name:** Your name here\n",
    "\n",
    "**Date:** Today's date here\n",
    "\n",
    "**Objective** Calculate streamflow using hydrometric survey data\n",
    "\n",
    "**Calculation**\n",
    "\n",
    "Total streamflow, $Q$ (m$^3$/s), is given by \n",
    "\n",
    "$$Q=\\sum_{i=1}^n q_i$$\n",
    "\n",
    "where $q_i$ is the is the flow in each river segment, given by\n",
    "\n",
    "$$q_i=v_i A_i$$\n",
    "\n",
    "where $v_i$ is the average velocity of the water in each segment, approximated by measuring the velocity at $0.6\\times$ the depth with the Price-Current gauge, and $A_i$ is the cross-sectional area of the segment, given by\n",
    "\n",
    "\\begin{array}{l}\n",
    "A_1 & = \\frac{b_2-b_1}{d_1} & i=1 & \\text{the left hand bank}\\\\\n",
    "A_i & = \\frac{b_{i+1}-b_{i-1}}{d_i} & 2\\leq i \\leq n-1 & \\text{internal segments}\\\\\n",
    "A_n & = \\frac{b_{n}-b_{n-1}}{d_n} & i = n & \\text{right hand segment}\n",
    "\\end{array}\n",
    "\n",
    "where $b$ (m) is distance across the stream and $d$ (m) is channel depth at each measurement point, as shown here\n",
    "\n",
    "![](midsection-method.gif)"
   ]
  },
  {
   "cell_type": "code",
   "execution_count": null,
   "metadata": {},
   "outputs": [],
   "source": [
    "# Import libraries\n",
    "import numpy as np\n",
    "import matplotlib.pyplot as pl"
   ]
  },
  {
   "cell_type": "code",
   "execution_count": null,
   "metadata": {},
   "outputs": [],
   "source": [
    "# Load data from file you created (which may contain gaps)\n",
    "data=np.genfromtxt('data.csv', delimiter=',',skip_header=1)\n",
    "# Column 1: Cross Section of the river in which the measurements were made (m)\n",
    "distance=data[:,0]\n",
    "# Column 2: Channel depth (m)\n",
    "depth=data[:,1]\n",
    "# Column 3: Revolutions (number)\n",
    "revolutions=data[:,2]\n",
    "# Column 5: Time for readings (s)\n",
    "time=data[:,3]"
   ]
  },
  {
   "cell_type": "code",
   "execution_count": null,
   "metadata": {},
   "outputs": [],
   "source": [
    "# Plot channel cross-\n",
    "# (Complete this section: create a plot of Depth(m) Vs. Horizontal scale(m))#\n",
    "#pl.plot\n",
    "# ...\n",
    "\n",
    "#  .\n",
    "\n",
    "# ...\n",
    "    \n",
    "#pl.grid()"
   ]
  },
  {
   "cell_type": "code",
   "execution_count": null,
   "metadata": {},
   "outputs": [],
   "source": [
    "# Step 2: Calculate velocity for each section:\n",
    "# First initialize an array for the flows\n",
    "n=len(time)\n",
    "velocity=np.zeros(n)\n",
    "# Use the equation in the datasheet#\n",
    "#velocity=...\n",
    "\n",
    "# Replace any nans with 0\n",
    "velocity[np.isnan(velocity)]=0.0\n",
    "velocity"
   ]
  },
  {
   "cell_type": "code",
   "execution_count": null,
   "metadata": {},
   "outputs": [],
   "source": [
    "# Plot velocity with distance:\n",
    "# (Complete this section: create a plot of Velocity(m/s) Vs. Horizontal scale(m)#\n",
    "#pl.subplot\n",
    "# ...\n",
    "\n",
    "#  .\n",
    "\n",
    "# ...\n",
    "    \n",
    "#pl.grid()\n",
    "\n",
    "pl.subplot(2,1,2)\n",
    "# Plot channel cross-section\n",
    "# (Complete this section: create a plot of Depth(m) Vs. Horizontal scale(m)#\n",
    "# pl.plot(distance,-depth,\".-\", color=\"black\")\n",
    "# ...\n",
    "\n",
    "#  .\n",
    "\n",
    "# ...\n",
    "    \n",
    "#pl.grid()\n"
   ]
  },
  {
   "cell_type": "code",
   "execution_count": null,
   "metadata": {},
   "outputs": [],
   "source": [
    "# Step 3: Calculate area for each section:\n",
    "# First initialize an array for the areas\n",
    "area=np.zeros(n)\n",
    "# Calculate first flow value:\n",
    "area[0]=(distance[1]-distance[0])/2*depth[0]\n",
    "area[1:-1]=(distance[2:]-distance[:-2])/2*depth[1:-1]\n",
    "area[-1]=(distance[-1]-distance[-2])/2*depth[-1]\n",
    "area"
   ]
  },
  {
   "cell_type": "code",
   "execution_count": null,
   "metadata": {},
   "outputs": [],
   "source": [
    "# Step4: Calculate flow for each section:\n",
    "# (Complete this section):\n",
    "#flow=\n",
    "#flow"
   ]
  },
  {
   "cell_type": "code",
   "execution_count": null,
   "metadata": {},
   "outputs": [],
   "source": [
    "# Plot velocity with distance:\n",
    "pl.subplot(2,1,1)\n",
    "# (Complete this section: create a plot of Flow() Vs. Horizontal scale(m)#\n",
    "# pl.plot(distance,-depth,\".-\", color=\"black\")\n",
    "# ...\n",
    "\n",
    "#  .\n",
    "\n",
    "# ...\n",
    "    \n",
    "#pl.grid()\n",
    "\n",
    "pl.subplot(2,1,2)\n",
    "# Plot channel cross-section\n",
    "# (Complete this section: create a plot of Depth(m) Vs. Horizontal scale(m)#\n",
    "# pl.plot(distance,-depth,\".-\", color=\"black\")\n",
    "# ...\n",
    "\n",
    "#  .\n",
    "\n",
    "# ...\n",
    "    \n",
    "#pl.grid()\n"
   ]
  },
  {
   "cell_type": "code",
   "execution_count": null,
   "metadata": {},
   "outputs": [],
   "source": [
    "# Calculate total flow\n",
    "# total_flow=\n",
    "#print('Total flow in stream is %.3f m^3/s'%(total_flow))"
   ]
  },
  {
   "cell_type": "markdown",
   "metadata": {},
   "source": [
    "**Automatic data import**"
   ]
  },
  {
   "cell_type": "code",
   "execution_count": null,
   "metadata": {},
   "outputs": [],
   "source": [
    "# Load data from file you created (which may contain gaps)\n",
    "#data2="
   ]
  },
  {
   "cell_type": "code",
   "execution_count": null,
   "metadata": {},
   "outputs": [],
   "source": [
    "# Calculate total flow\n",
    "# total_flow2=\n",
    "#print('Total flow in stream is %.3f m^3/s'%(total_flow))"
   ]
  },
  {
   "cell_type": "markdown",
   "metadata": {},
   "source": [
    "**Data flow comparission**"
   ]
  },
  {
   "cell_type": "code",
   "execution_count": null,
   "metadata": {},
   "outputs": [],
   "source": []
  },
  {
   "cell_type": "markdown",
   "metadata": {},
   "source": [
    "**Final discussion**"
   ]
  },
  {
   "cell_type": "code",
   "execution_count": null,
   "metadata": {},
   "outputs": [],
   "source": []
  }
 ],
 "metadata": {
  "kernelspec": {
   "display_name": "Python 3",
   "language": "python",
   "name": "python3"
  },
  "language_info": {
   "codemirror_mode": {
    "name": "ipython",
    "version": 3
   },
   "file_extension": ".py",
   "mimetype": "text/x-python",
   "name": "python",
   "nbconvert_exporter": "python",
   "pygments_lexer": "ipython3",
   "version": "3.8.2"
  }
 },
 "nbformat": 4,
 "nbformat_minor": 2
}
