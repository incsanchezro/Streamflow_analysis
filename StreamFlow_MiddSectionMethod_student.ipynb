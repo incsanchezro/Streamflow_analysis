{
 "cells": [
  {
   "cell_type": "markdown",
   "metadata": {},
   "source": [
    "# MWS-ENVS806: Stream-flow measurement assignment "
   ]
  },
  {
   "cell_type": "code",
   "execution_count": null,
   "metadata": {},
   "outputs": [],
   "source": [
    "#cover information"
   ]
  },
  {
   "cell_type": "markdown",
   "metadata": {},
   "source": [
    "## 1. Calculations of the stream-flow using the Price Current Meter"
   ]
  },
  {
   "cell_type": "markdown",
   "metadata": {},
   "source": [
    "### Streamflow measurements \n",
    "#### (Midd section method)\n",
    "#### Data recuperated from: Water Survey"
   ]
  },
  {
   "cell_type": "code",
   "execution_count": null,
   "metadata": {},
   "outputs": [],
   "source": [
    "#Importing libraries\n",
    "# import pandas ...\n",
    "# import matplotlib..."
   ]
  },
  {
   "cell_type": "code",
   "execution_count": null,
   "metadata": {},
   "outputs": [],
   "source": [
    "#Step 1: Importing data\n",
    "Data=pd.read_csv('InitialData_Transcript.csv', delimiter=';')\n",
    "Data\n",
    "#Column 1: Cross Section of the river in which the measurements were made\n",
    "#Column 2: River bottom ground depth\n",
    "#Column 3: Section width \n",
    "#Column 4: Flow velocity at 0.2D\n",
    "#Column 5: Flow velocity at 0.3D\n",
    "#D is the depth of the stream in the mid-point of each section"
   ]
  },
  {
   "cell_type": "code",
   "execution_count": null,
   "metadata": {},
   "outputs": [],
   "source": [
    "#Step 3: Calculating the total number of measurements\n",
    "   "
   ]
  },
  {
   "cell_type": "code",
   "execution_count": null,
   "metadata": {},
   "outputs": [],
   "source": [
    "#Step4:Presenting the equations for flow calculation"
   ]
  },
  {
   "cell_type": "markdown",
   "metadata": {},
   "source": [
    "$ q_{1}=v_{1}\\left[\\frac{b_{2}-b_{1}}{2}\\right]d_{1}$ if $i=1$\n"
   ]
  },
  {
   "cell_type": "markdown",
   "metadata": {},
   "source": [
    "$ q_{i}=...$"
   ]
  },
  {
   "cell_type": "markdown",
   "metadata": {},
   "source": [
    "$q_{n}=...$"
   ]
  },
  {
   "cell_type": "code",
   "execution_count": null,
   "metadata": {},
   "outputs": [],
   "source": [
    "# Step5: Calculating flow per seccion\n",
    "Data['Flow']=0\n",
    "\n",
    "for i in range (0,n+1):\n",
    "    if i==0:\n",
    "        Data.iloc[i,6]=Data.iloc[i,5]*((Data.iloc[i+1,0]-Data.iloc[i,0])/2)*Data.iloc[i,1]\n",
    "    if i>0 and i<=n-2:\n",
    "        #Data.iloc[i,6]=...\n",
    "    if i==n-1:\n",
    "        #Data.iloc[i-1,6]=...\n",
    "Data"
   ]
  },
  {
   "cell_type": "code",
   "execution_count": null,
   "metadata": {},
   "outputs": [],
   "source": [
    "Data['Width']=(Data['Distance from initial point'].diff())\n",
    "Data"
   ]
  },
  {
   "cell_type": "code",
   "execution_count": null,
   "metadata": {},
   "outputs": [],
   "source": [
    "#Step 3: Plotting crossectional area\n"
   ]
  },
  {
   "cell_type": "code",
   "execution_count": null,
   "metadata": {},
   "outputs": [],
   "source": [
    "fig, ax = plt.subplots()\n",
    "#x=...\n",
    "#y1=...\n",
    "ax.plot(x,y1,\"-.\", color=\"sienna\")\n",
    "plt.stem(x, y1, use_line_collection=True)\n",
    "ax.set_ylim(1.1, 0)  # decreasing\n",
    "ax.set_xlim(1, 7.5)  # decreasing time\n",
    "#ax.set_xlabel('Hodrizontal scale(m)')\n",
    "#ax.set_ylabel('Depth(m)')\n",
    "#ax.set_title('Ccrossectional area')\n",
    "#plt.fill_between(x,y1,color='c')\n",
    "ax.grid(True)\n",
    "\n",
    "#plt..."
   ]
  },
  {
   "cell_type": "code",
   "execution_count": null,
   "metadata": {},
   "outputs": [],
   "source": [
    "#Step 4: Calculating total flow \n",
    "#Q_1=Data['Flow']...\n",
    "#Q_1"
   ]
  },
  {
   "cell_type": "code",
   "execution_count": null,
   "metadata": {},
   "outputs": [],
   "source": [
    "#Step 5: Importing automatic discharge data\n",
    "#Data2=pd.read_csv('DischargeMeasurementSummary.csv'...\n",
    "#Data2\n"
   ]
  },
  {
   "cell_type": "code",
   "execution_count": null,
   "metadata": {},
   "outputs": [],
   "source": [
    "#Step6: Calculating total flow from the automatic discharge data\n",
    "#Q_2=Data2['Flow']...\n",
    "#Q_2"
   ]
  },
  {
   "cell_type": "code",
   "execution_count": null,
   "metadata": {},
   "outputs": [],
   "source": [
    "#Step 7: Calculating differences between both measurements\n",
    "Error=Q_1-Q_2\n",
    "Error"
   ]
  },
  {
   "cell_type": "markdown",
   "metadata": {},
   "source": [
    "## 2. Discussion "
   ]
  }
 ],
 "metadata": {
  "kernelspec": {
   "display_name": "Python 3",
   "language": "python",
   "name": "python3"
  },
  "language_info": {
   "codemirror_mode": {
    "name": "ipython",
    "version": 3
   },
   "file_extension": ".py",
   "mimetype": "text/x-python",
   "name": "python",
   "nbconvert_exporter": "python",
   "pygments_lexer": "ipython3",
   "version": "3.8.2"
  }
 },
 "nbformat": 4,
 "nbformat_minor": 2
}
